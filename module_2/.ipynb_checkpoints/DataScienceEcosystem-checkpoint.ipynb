{
 "cells": [
  {
   "cell_type": "markdown",
   "id": "3f9d8efe-4fa5-423a-ae6c-2e9781f02d12",
   "metadata": {},
   "source": [
    "# Data Science Tools and Ecosystem"
   ]
  },
  {
   "cell_type": "markdown",
   "id": "a4aedab2-fa48-46c6-856c-246a544e88c1",
   "metadata": {},
   "source": [
    "## In this notebook, Data Science Tools and Ecosystem are summarized."
   ]
  },
  {
   "cell_type": "markdown",
   "id": "614ad2f5-543c-4d06-bce6-75117f50deb2",
   "metadata": {},
   "source": [
    "**Objectives**\n",
    "- Understand the Basics of SQL for data management\n",
    "- Introduction to Data Science Libraries in Python and R\n",
    "- Learn the Usage and Importance of GitHub for version control and collaboration"
   ]
  },
  {
   "cell_type": "markdown",
   "id": "fdb9a487-7cad-4136-b91d-c7446def2723",
   "metadata": {},
   "source": [
    "### Some of the popular languages that Data Scientists use are:\n",
    "1. Python\n",
    "2. R\n",
    "3. SQL"
   ]
  },
  {
   "cell_type": "markdown",
   "id": "13d176ec-3094-444e-a368-07b8d1a044af",
   "metadata": {},
   "source": [
    "### Some of the commonly used libraries used by Data Scientists include:\n",
    "1. Pandas\n",
    "2. Numpy\n",
    "3. Matplotlib"
   ]
  },
  {
   "cell_type": "markdown",
   "id": "f82e61b9-c54b-4bbd-b418-58be9a0b177e",
   "metadata": {},
   "source": [
    "## Data Science Tools\n",
    "| Data Science Tools |\n",
    "| -------------| \n",
    "| Jupyter Notebook |\n",
    "| RStudio | \n",
    "| PowerBI | "
   ]
  },
  {
   "cell_type": "markdown",
   "id": "23dc17a6-a3c4-4e43-a231-706124c83dcd",
   "metadata": {},
   "source": [
    "### Below are a few examples of evaluating arithmetic expressions in Python\n"
   ]
  },
  {
   "cell_type": "code",
   "execution_count": 2,
   "id": "db97f5d2-f7f7-4122-a45b-6cd2627fab1e",
   "metadata": {},
   "outputs": [
    {
     "data": {
      "text/plain": [
       "17"
      ]
     },
     "execution_count": 2,
     "metadata": {},
     "output_type": "execute_result"
    }
   ],
   "source": [
    "# This a simple arithmetic expression to mutiply then add integers\n",
    "\n",
    "(3*4)+5"
   ]
  },
  {
   "cell_type": "code",
   "execution_count": 3,
   "id": "15cf2f98-ca76-493c-a0a6-313a8f2563fc",
   "metadata": {},
   "outputs": [
    {
     "data": {
      "text/plain": [
       "3.3333333333333335"
      ]
     },
     "execution_count": 3,
     "metadata": {},
     "output_type": "execute_result"
    }
   ],
   "source": [
    "# This will convert 200 minutes to hours by diving by 60\n",
    "\n",
    "minutes = 200\n",
    "hours = minutes / 60\n",
    "hours"
   ]
  },
  {
   "cell_type": "markdown",
   "id": "6ecbfae8-1421-4a64-87c9-d3ec3445a0cd",
   "metadata": {},
   "source": [
    "## Author\n",
    "\n",
    "Shoaib Naseer"
   ]
  },
  {
   "cell_type": "code",
   "execution_count": null,
   "id": "3e7778c1-b054-42f2-a71f-54cf6cb25973",
   "metadata": {},
   "outputs": [],
   "source": []
  }
 ],
 "metadata": {
  "kernelspec": {
   "display_name": "Python 3 (ipykernel)",
   "language": "python",
   "name": "python3"
  },
  "language_info": {
   "codemirror_mode": {
    "name": "ipython",
    "version": 3
   },
   "file_extension": ".py",
   "mimetype": "text/x-python",
   "name": "python",
   "nbconvert_exporter": "python",
   "pygments_lexer": "ipython3",
   "version": "3.10.13"
  }
 },
 "nbformat": 4,
 "nbformat_minor": 5
}
